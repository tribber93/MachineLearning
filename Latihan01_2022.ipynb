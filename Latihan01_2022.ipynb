{
  "nbformat": 4,
  "nbformat_minor": 0,
  "metadata": {
    "colab": {
      "provenance": [],
      "collapsed_sections": [],
      "mount_file_id": "1-gk5jZvtFcT3OtLWhFRZ1t9QENd7AspV",
      "authorship_tag": "ABX9TyMUWeiON6y0Bund0zu/fUtp",
      "include_colab_link": true
    },
    "kernelspec": {
      "name": "python3",
      "display_name": "Python 3"
    },
    "language_info": {
      "name": "python"
    }
  },
  "cells": [
    {
      "cell_type": "markdown",
      "metadata": {
        "id": "view-in-github",
        "colab_type": "text"
      },
      "source": [
        "<a href=\"https://colab.research.google.com/github/tribber93/MachineLearning/blob/main/Latihan01_2022.ipynb\" target=\"_parent\"><img src=\"https://colab.research.google.com/assets/colab-badge.svg\" alt=\"Open In Colab\"/></a>"
      ]
    },
    {
      "cell_type": "markdown",
      "source": [
        "Praktikum Colabs"
      ],
      "metadata": {
        "id": "ReYBOiHy9yrv"
      }
    },
    {
      "cell_type": "code",
      "execution_count": null,
      "metadata": {
        "colab": {
          "base_uri": "https://localhost:8080/"
        },
        "id": "PvmN2cP34R74",
        "outputId": "bac38ca0-82e9-4f46-9d6a-f6d6e756966b"
      },
      "outputs": [
        {
          "output_type": "stream",
          "name": "stdout",
          "text": [
            "numpy 1.21.6\n",
            "Python: 3.7.15 (default, Oct 12 2022, 19:14:55) \n",
            "[GCC 7.5.0]\n",
            "Numpy: 1.21.6\n",
            "Scipy: 1.7.3\n",
            "Matplotlib: 3.2.2\n",
            "Pandas: 1.3.5\n",
            "SkLearn: 1.0.2\n"
          ]
        }
      ],
      "source": [
        "import sys\n",
        "import numpy as np #data berupa matriks\n",
        "import scipy #science python\n",
        "import matplotlib #Visualisasi data\n",
        "import pandas as pd #data berupa dataframe\n",
        "import sklearn #kumpulan algoritma Machine Learning\n",
        "\n",
        "# versi library\n",
        "# print('numpy {}'.format(np.__version__))\n",
        "print(f'Python: {sys.version}')\n",
        "print(f'Numpy: {np.__version__}')\n",
        "print(f'Scipy: {scipy.__version__}')\n",
        "print(f'Matplotlib: {matplotlib.__version__}')\n",
        "print(f'Pandas: {pd.__version__}')\n",
        "print(f'SkLearn: {sklearn.__version__}')\n",
        "# print(f\"versi {sys.version}\")"
      ]
    },
    {
      "cell_type": "code",
      "source": [
        "#tipe String\n",
        "str = \"Hello World! \"\n",
        "\n",
        "'''\n",
        "print(str)\n",
        "print(str[0])\n",
        "print(str[2:5])\n",
        "print(str[2:])\n",
        "print(str * 2)\n",
        "print(str + \"TEST\")\n",
        "'''"
      ],
      "metadata": {
        "colab": {
          "base_uri": "https://localhost:8080/"
        },
        "id": "5CHy7sPJEdfR",
        "outputId": "672cefbb-dc17-4026-a56a-8a0d2aa95f95"
      },
      "execution_count": null,
      "outputs": [
        {
          "output_type": "stream",
          "name": "stdout",
          "text": [
            "Hello World! \n",
            "H\n",
            "llo\n",
            "llo World! \n",
            "Hello World! Hello World! \n",
            "Hello World! TEST\n"
          ]
        }
      ]
    },
    {
      "cell_type": "code",
      "source": [
        "#tipe list\n",
        "list = [\"abcd\", 786, 2.23, 'amir', 70.2]\n",
        "tinylist = [123,'amir']\n",
        "\n",
        "print(list)\n",
        "print(list[0])\n",
        "print(list[1:3])\n",
        "print(list[2:])\n",
        "print(tinylist * 2)\n",
        "print(list + tinylist)\n",
        "#tambahan\n",
        "# print(list[0][2])"
      ],
      "metadata": {
        "colab": {
          "base_uri": "https://localhost:8080/"
        },
        "id": "BzYleeXNGbJB",
        "outputId": "65dcda92-80ab-4181-d1e0-2994da6fbee3"
      },
      "execution_count": null,
      "outputs": [
        {
          "output_type": "stream",
          "name": "stdout",
          "text": [
            "['abcd', 786, 2.23, 'amir', 70.2]\n",
            "abcd\n",
            "[786, 2.23]\n",
            "[2.23, 'amir', 70.2]\n",
            "[123, 'amir', 123, 'amir']\n",
            "['abcd', 786, 2.23, 'amir', 70.2, 123, 'amir']\n"
          ]
        }
      ]
    },
    {
      "cell_type": "code",
      "source": [
        "import matplotlib.pyplot as plt\n",
        "\n",
        "year = [1980,1990, 2000, 2010, 2020]\n",
        "price = [2.5, 7.6, 9.7, 15.8, 22.9]\n",
        "\n",
        "plt.plot(year, price)\n",
        "# plt.plot(price, year)\n",
        "plt.show()"
      ],
      "metadata": {
        "colab": {
          "base_uri": "https://localhost:8080/",
          "height": 265
        },
        "id": "HYhiq141HzBO",
        "outputId": "055bc7a6-c789-48bc-f8c8-5c28204c28be"
      },
      "execution_count": null,
      "outputs": [
        {
          "output_type": "display_data",
          "data": {
            "text/plain": [
              "<Figure size 432x288 with 1 Axes>"
            ],
            "image/png": "[encoded data removed]"
          },
          "metadata": {
            "needs_background": "light"
          }
        }
      ]
    },
    {
      "cell_type": "code",
      "source": [
        "path = \"/content/drive/MyDrive/Machine Learning/Persentase Perokok RI.csv\"\n",
        "dataset = pd.read_csv(path)\n",
        "# dataset #mencetak semua data\n",
        "dataset.head(7) #mencetak 7 data dari awal default 5"
      ],
      "metadata": {
        "colab": {
          "base_uri": "https://localhost:8080/",
          "height": 269
        },
        "id": "YlSBBfWS_Wz2",
        "outputId": "b1d91e7c-ff37-4a74-e4c6-0e8840166e3c"
      },
      "execution_count": null,
      "outputs": [
        {
          "output_type": "execute_result",
          "data": {
            "text/plain": [
              "           Provinsi   2015   2016\n",
              "0              ACEH  29.82  28.16\n",
              "1    SUMATERA UTARA  29.15  27.88\n",
              "2    SUMATERA BARAT  32.41  30.59\n",
              "3              RIAU  31.21  29.61\n",
              "4             JAMBI  30.82  29.18\n",
              "5  SUMATERA SELATAN  33.13  31.57\n",
              "6          BENGKULU  33.68  33.15"
            ],
            "text/html": [
              "\n",
              "  <div id=\"df-1d3ae2d2-d8af-489b-8cd4-eed6fe0ab501\">\n",
              "    <div class=\"colab-df-container\">\n",
              "      <div>\n",
              "<style scoped>\n",
              "    .dataframe tbody tr th:only-of-type {\n",
              "        vertical-align: middle;\n",
              "    }\n",
              "\n",
              "    .dataframe tbody tr th {\n",
              "        vertical-align: top;\n",
              "    }\n",
              "\n",
              "    .dataframe thead th {\n",
              "        text-align: right;\n",
              "    }\n",
              "</style>\n",
              "<table border=\"1\" class=\"dataframe\">\n",
              "  <thead>\n",
              "    <tr style=\"text-align: right;\">\n",
              "      <th></th>\n",
              "      <th>Provinsi</th>\n",
              "      <th>2015</th>\n",
              "      <th>2016</th>\n",
              "    </tr>\n",
              "  </thead>\n",
              "  <tbody>\n",
              "    <tr>\n",
              "      <th>0</th>\n",
              "      <td>ACEH</td>\n",
              "      <td>29.82</td>\n",
              "      <td>28.16</td>\n",
              "    </tr>\n",
              "    <tr>\n",
              "      <th>1</th>\n",
              "      <td>SUMATERA UTARA</td>\n",
              "      <td>29.15</td>\n",
              "      <td>27.88</td>\n",
              "    </tr>\n",
              "    <tr>\n",
              "      <th>2</th>\n",
              "      <td>SUMATERA BARAT</td>\n",
              "      <td>32.41</td>\n",
              "      <td>30.59</td>\n",
              "    </tr>\n",
              "    <tr>\n",
              "      <th>3</th>\n",
              "      <td>RIAU</td>\n",
              "      <td>31.21</td>\n",
              "      <td>29.61</td>\n",
              "    </tr>\n",
              "    <tr>\n",
              "      <th>4</th>\n",
              "      <td>JAMBI</td>\n",
              "      <td>30.82</td>\n",
              "      <td>29.18</td>\n",
              "    </tr>\n",
              "    <tr>\n",
              "      <th>5</th>\n",
              "      <td>SUMATERA SELATAN</td>\n",
              "      <td>33.13</td>\n",
              "      <td>31.57</td>\n",
              "    </tr>\n",
              "    <tr>\n",
              "      <th>6</th>\n",
              "      <td>BENGKULU</td>\n",
              "      <td>33.68</td>\n",
              "      <td>33.15</td>\n",
              "    </tr>\n",
              "  </tbody>\n",
              "</table>\n",
              "</div>\n",
              "      <button class=\"colab-df-convert\" onclick=\"convertToInteractive('df-1d3ae2d2-d8af-489b-8cd4-eed6fe0ab501')\"\n",
              "              title=\"Convert this dataframe to an interactive table.\"\n",
              "              style=\"display:none;\">\n",
              "        \n",
              "  <svg xmlns=\"http://www.w3.org/2000/svg\" height=\"24px\"viewBox=\"0 0 24 24\"\n",
              "       width=\"24px\">\n",
              "    <path d=\"M0 0h24v24H0V0z\" fill=\"none\"/>\n",
              "    <path d=\"M18.56 5.44l.94 2.06.94-2.06 2.06-.94-2.06-.94-.94-2.06-.94 2.06-2.06.94zm-11 1L8.5 8.5l.94-2.06 2.06-.94-2.06-.94L8.5 2.5l-.94 2.06-2.06.94zm10 10l.94 2.06.94-2.06 2.06-.94-2.06-.94-.94-2.06-.94 2.06-2.06.94z\"/><path d=\"M17.41 7.96l-1.37-1.37c-.4-.4-.92-.59-1.43-.59-.52 0-1.04.2-1.43.59L10.3 9.45l-7.72 7.72c-.78.78-.78 2.05 0 2.83L4 21.41c.39.39.9.59 1.41.59.51 0 1.02-.2 1.41-.59l7.78-7.78 2.81-2.81c.8-.78.8-2.07 0-2.86zM5.41 20L4 18.59l7.72-7.72 1.47 1.35L5.41 20z\"/>\n",
              "  </svg>\n",
              "      </button>\n",
              "      \n",
              "  <style>\n",
              "    .colab-df-container {\n",
              "      display:flex;\n",
              "      flex-wrap:wrap;\n",
              "      gap: 12px;\n",
              "    }\n",
              "\n",
              "    .colab-df-convert {\n",
              "      background-color: #E8F0FE;\n",
              "      border: none;\n",
              "      border-radius: 50%;\n",
              "      cursor: pointer;\n",
              "      display: none;\n",
              "      fill: #1967D2;\n",
              "      height: 32px;\n",
              "      padding: 0 0 0 0;\n",
              "      width: 32px;\n",
              "    }\n",
              "\n",
              "    .colab-df-convert:hover {\n",
              "      background-color: #E2EBFA;\n",
              "      box-shadow: 0px 1px 2px rgba(60, 64, 67, 0.3), 0px 1px 3px 1px rgba(60, 64, 67, 0.15);\n",
              "      fill: #174EA6;\n",
              "    }\n",
              "\n",
              "    [theme=dark] .colab-df-convert {\n",
              "      background-color: #3B4455;\n",
              "      fill: #D2E3FC;\n",
              "    }\n",
              "\n",
              "    [theme=dark] .colab-df-convert:hover {\n",
              "      background-color: #434B5C;\n",
              "      box-shadow: 0px 1px 3px 1px rgba(0, 0, 0, 0.15);\n",
              "      filter: drop-shadow(0px 1px 2px rgba(0, 0, 0, 0.3));\n",
              "      fill: #FFFFFF;\n",
              "    }\n",
              "  </style>\n",
              "\n",
              "      <script>\n",
              "        const buttonEl =\n",
              "          document.querySelector('#df-1d3ae2d2-d8af-489b-8cd4-eed6fe0ab501 button.colab-df-convert');\n",
              "        buttonEl.style.display =\n",
              "          google.colab.kernel.accessAllowed ? 'block' : 'none';\n",
              "\n",
              "        async function convertToInteractive(key) {\n",
              "          const element = document.querySelector('#df-1d3ae2d2-d8af-489b-8cd4-eed6fe0ab501');\n",
              "          const dataTable =\n",
              "            await google.colab.kernel.invokeFunction('convertToInteractive',\n",
              "                                                     [key], {});\n",
              "          if (!dataTable) return;\n",
              "\n",
              "          const docLinkHtml = 'Like what you see? Visit the ' +\n",
              "            '<a target=\"_blank\" href=https://colab.research.google.com/notebooks/data_table.ipynb>data table notebook</a>'\n",
              "            + ' to learn more about interactive tables.';\n",
              "          element.innerHTML = '';\n",
              "          dataTable['output_type'] = 'display_data';\n",
              "          await google.colab.output.renderOutput(dataTable, element);\n",
              "          const docLink = document.createElement('div');\n",
              "          docLink.innerHTML = docLinkHtml;\n",
              "          element.appendChild(docLink);\n",
              "        }\n",
              "      </script>\n",
              "    </div>\n",
              "  </div>\n",
              "  "
            ]
          },
          "metadata": {},
          "execution_count": 14
        }
      ]
    },
    {
      "cell_type": "markdown",
      "source": [],
      "metadata": {
        "id": "6P-y7N2O9yl0"
      }
    },
    {
      "cell_type": "code",
      "source": [
        "dataset.shape"
      ],
      "metadata": {
        "colab": {
          "base_uri": "https://localhost:8080/"
        },
        "id": "LwtgROg696Rj",
        "outputId": "de4877b9-c5db-49b4-8a13-9a911e1571f8"
      },
      "execution_count": null,
      "outputs": [
        {
          "output_type": "execute_result",
          "data": {
            "text/plain": [
              "(34, 3)"
            ]
          },
          "metadata": {},
          "execution_count": 18
        }
      ]
    },
    {
      "cell_type": "code",
      "source": [
        "dataset.isnull().sum()"
      ],
      "metadata": {
        "colab": {
          "base_uri": "https://localhost:8080/"
        },
        "id": "_mfsFPipFX9N",
        "outputId": "bd850c99-adcb-443f-8070-29260a7b0b88"
      },
      "execution_count": null,
      "outputs": [
        {
          "output_type": "execute_result",
          "data": {
            "text/plain": [
              "Provinsi    0\n",
              "2015        0\n",
              "2016        0\n",
              "dtype: int64"
            ]
          },
          "metadata": {},
          "execution_count": 20
        }
      ]
    }
  ]
}